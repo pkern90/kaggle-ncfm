{
 "cells": [
  {
   "cell_type": "code",
   "execution_count": 2,
   "metadata": {
    "collapsed": true
   },
   "outputs": [],
   "source": [
    "import os\n",
    "import numpy as np\n",
    "from glob import glob\n",
    "from shutil import copyfile, move"
   ]
  },
  {
   "cell_type": "code",
   "execution_count": 3,
   "metadata": {
    "collapsed": false
   },
   "outputs": [
    {
     "data": {
      "text/plain": [
       "'/home/patrick/Dev/Kaggle/ncfm'"
      ]
     },
     "execution_count": 3,
     "metadata": {},
     "output_type": "execute_result"
    }
   ],
   "source": [
    "%pwd"
   ]
  },
  {
   "cell_type": "code",
   "execution_count": 4,
   "metadata": {
    "collapsed": false
   },
   "outputs": [],
   "source": [
    "current_dir = os.getcwd()\n",
    "HOME_DIR = current_dir\n",
    "DATA_DIR = current_dir + \"/data\""
   ]
  },
  {
   "cell_type": "code",
   "execution_count": 13,
   "metadata": {
    "collapsed": false
   },
   "outputs": [
    {
     "name": "stdout",
     "output_type": "stream",
     "text": [
      "/home/patrick/Dev/Kaggle/ncfm/data\n",
      "mkdir: cannot create directory ‘valid’: File exists\n",
      "mkdir: cannot create directory ‘result’: File exists\n"
     ]
    }
   ],
   "source": [
    "%cd $DATA_DIR\n",
    "%mkdir valid\n",
    "%mkdir result\n",
    "%mkdir -p sample/train\n",
    "%mkdir -p sample/valid\n",
    "%mkdir -p sample/test/unknown\n",
    "%mkdir -p sample/result\n",
    "%mkdir -p test/unknown"
   ]
  },
  {
   "cell_type": "code",
   "execution_count": 12,
   "metadata": {
    "collapsed": false
   },
   "outputs": [
    {
     "name": "stdout",
     "output_type": "stream",
     "text": [
      "/home/patrick/Dev/Kaggle/ncfm/data/test_stg1\n"
     ]
    }
   ],
   "source": [
    "%cd $DATA_DIR/test\n",
    "%mv *.jpg unknown/"
   ]
  },
  {
   "cell_type": "code",
   "execution_count": 5,
   "metadata": {
    "collapsed": false
   },
   "outputs": [
    {
     "name": "stdout",
     "output_type": "stream",
     "text": [
      "/home/patrick/Dev/Kaggle/ncfm/data/train\n"
     ]
    }
   ],
   "source": [
    "%cd $DATA_DIR/train"
   ]
  },
  {
   "cell_type": "code",
   "execution_count": 6,
   "metadata": {
    "collapsed": true
   },
   "outputs": [],
   "source": [
    "for d in glob('*'):\n",
    "    os.mkdir('../valid/'+d)\n",
    "    os.mkdir('../sample/train/'+d)\n",
    "    os.mkdir('../sample/valid/'+d)"
   ]
  },
  {
   "cell_type": "code",
   "execution_count": 14,
   "metadata": {
    "collapsed": false
   },
   "outputs": [
    {
     "name": "stdout",
     "output_type": "stream",
     "text": [
      "SHARK 176\n",
      "NoF 465\n",
      "YFT 734\n",
      "DOL 117\n",
      "ALB 1719\n",
      "BET 200\n",
      "LAG 67\n",
      "OTHER 299\n",
      "\n",
      "Sum: 3777\n"
     ]
    }
   ],
   "source": [
    "for d in glob('*'):\n",
    "    f = glob(d + '/*jpg')\n",
    "    print(d.split('/')[0], len(f))\n",
    "    \n",
    "print('\\nSum:', len(glob('*/*.jpg')))"
   ]
  },
  {
   "cell_type": "code",
   "execution_count": 16,
   "metadata": {
    "collapsed": false
   },
   "outputs": [],
   "source": [
    "train_sample_size = 0.1\n",
    "valid_sample_size = 0.1\n",
    "valid_size = 0.2\n",
    "\n",
    "for d in glob('*'):\n",
    "    f = glob(d + '/*jpg')\n",
    "    n_train_samples = int(len(f) * train_sample_size)\n",
    "    n_valid_samples = int(len(f) * valid_sample_size)\n",
    "    n_valid = int(len(f) * valid_size)\n",
    "    \n",
    "    \n",
    "    shuf = np.random.permutation(f)\n",
    "    for i in range(n_train_samples): copyfile(shuf[i], '../sample/train/' + shuf[i])\n",
    "    for i in range(n_train_samples , n_train_samples + n_valid_samples):\n",
    "        copyfile(shuf[i], '../sample/valid/' + shuf[i])\n",
    "        \n",
    "    for i in range(n_valid): move(shuf[i], '../valid/' + shuf[i])"
   ]
  },
  {
   "cell_type": "code",
   "execution_count": 16,
   "metadata": {
    "collapsed": false
   },
   "outputs": [
    {
     "name": "stdout",
     "output_type": "stream",
     "text": [
      "/home/patrick/Dev/Kaggle/ncfm/data/test_stg1\n"
     ]
    }
   ],
   "source": [
    "%cd $DATA_DIR/test\n",
    "\n",
    "test_sample_size = 0.1\n",
    "f = glob('*/*.jpg')\n",
    "n_test_samples = int(len(f) * test_sample_size)\n",
    "shuf = np.random.permutation(f)\n",
    "for i in range(n_test_samples): copyfile(shuf[i], '../sample/test/' + shuf[i])"
   ]
  },
  {
   "cell_type": "code",
   "execution_count": null,
   "metadata": {
    "collapsed": true
   },
   "outputs": [],
   "source": []
  }
 ],
 "metadata": {
  "kernelspec": {
   "display_name": "Python 3",
   "language": "python",
   "name": "python3"
  },
  "language_info": {
   "codemirror_mode": {
    "name": "ipython",
    "version": 3
   },
   "file_extension": ".py",
   "mimetype": "text/x-python",
   "name": "python",
   "nbconvert_exporter": "python",
   "pygments_lexer": "ipython3",
   "version": "3.5.2"
  }
 },
 "nbformat": 4,
 "nbformat_minor": 2
}
